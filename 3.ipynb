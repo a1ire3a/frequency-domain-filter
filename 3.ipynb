{
  "nbformat": 4,
  "nbformat_minor": 0,
  "metadata": {
    "colab": {
      "name": "IC-HW4-9.ipynb",
      "provenance": [],
      "authorship_tag": "ABX9TyO83HmbDO6BV49wb+k3DR16",
      "include_colab_link": true
    },
    "kernelspec": {
      "name": "python3",
      "display_name": "Python 3"
    },
    "language_info": {
      "name": "python"
    }
  },
  "cells": [
    {
      "cell_type": "markdown",
      "metadata": {
        "id": "view-in-github",
        "colab_type": "text"
      },
      "source": [
        "<a href=\"https://colab.research.google.com/github/a1ire3a/frequency-domain-filter/blob/main/3.ipynb\" target=\"_parent\"><img src=\"https://colab.research.google.com/assets/colab-badge.svg\" alt=\"Open In Colab\"/></a>"
      ]
    },
    {
      "cell_type": "markdown",
      "source": [
        "# **MSE**"
      ],
      "metadata": {
        "id": "eIXhDYTjMnm-"
      }
    },
    {
      "cell_type": "code",
      "execution_count": null,
      "metadata": {
        "id": "ZRAveC59A2Bt"
      },
      "outputs": [],
      "source": [
        "import numpy as np\n",
        "import cv2\n",
        "import urllib.request as url\n",
        "from skimage.util import random_noise\n",
        "from sklearn.metrics import mean_squared_error\n",
        "import matplotlib.pyplot as plt\n",
        "from google.colab.patches import cv2_imshow"
      ]
    },
    {
      "cell_type": "markdown",
      "source": [
        "load library"
      ],
      "metadata": {
        "id": "GeM5XJdPMqI4"
      }
    },
    {
      "cell_type": "code",
      "source": [
        "req = url.urlopen(\"https://upload.wikimedia.org/wikipedia/en/7/7d/Lenna_%28test_image%29.png\")\n",
        "imgArr = np.asarray(bytearray(req.read()), dtype=np.uint8)\n",
        "img = cv2.imdecode(imgArr, cv2.IMREAD_GRAYSCALE)"
      ],
      "metadata": {
        "id": "IomZnAynBPwM"
      },
      "execution_count": null,
      "outputs": []
    },
    {
      "cell_type": "markdown",
      "source": [
        "load image"
      ],
      "metadata": {
        "id": "m9e1qdIhMsuX"
      }
    },
    {
      "cell_type": "code",
      "source": [
        "def MSE(img, des):\n",
        "    f = np.fft.fft2(img)\n",
        "    fs = np.fft.fftshift(f)\n",
        "    #cv2_imshow(fs)\n",
        "\n",
        "    fd = np.fft.fft2(des)\n",
        "    fsd = np.fft.fftshift(fd)\n",
        "    #cv2_imshow(fsd)\n",
        "    fs = np.real(fs)\n",
        "    fsd = np.real(fsd)\n",
        "    mse = mean_squared_error(fsd, fs)\n",
        "\n",
        "    return(mse)"
      ],
      "metadata": {
        "id": "2NsWrvFTBa4D"
      },
      "execution_count": null,
      "outputs": []
    },
    {
      "cell_type": "markdown",
      "source": [
        "function for calculate mean square error between original and destorted image in frequency domain"
      ],
      "metadata": {
        "id": "m-Esr80NMuVe"
      }
    },
    {
      "cell_type": "code",
      "source": [
        "res = []\n",
        "for i in range(0, 100):\n",
        "    gaussianIMG = np.array(255 * random_noise(img, mode='gaussian',mean=0, var=(i/100))).astype(int)\n",
        "    res.append(MSE(img, gaussianIMG))"
      ],
      "metadata": {
        "id": "tqB45dxtCAWB"
      },
      "execution_count": null,
      "outputs": []
    },
    {
      "cell_type": "markdown",
      "source": [
        "result of 100 epoch with 0.1 step for vaiance of noise"
      ],
      "metadata": {
        "id": "lq4qynjsM_Kb"
      }
    },
    {
      "cell_type": "code",
      "source": [
        "plt.plot(res)\n",
        "plt.show()"
      ],
      "metadata": {
        "colab": {
          "base_uri": "https://localhost:8080/",
          "height": 276
        },
        "id": "V9TgU6pIDV0X",
        "outputId": "f153b013-ee42-4423-c622-b59a18e680a2"
      },
      "execution_count": null,
      "outputs": [
        {
          "output_type": "display_data",
          "data": {
            "text/plain": [
              "<Figure size 432x288 with 1 Axes>"
            ],
            "image/png": "[encoded data removed]"
          },
          "metadata": {
            "needs_background": "light"
          }
        }
      ]
    },
    {
      "cell_type": "markdown",
      "source": [
        "plot 100 destorted image with mse\n",
        "x-axis for number of image\n",
        "y-axis for amount of mse"
      ],
      "metadata": {
        "id": "d_sAE9pvNJN8"
      }
    }
  ]
}